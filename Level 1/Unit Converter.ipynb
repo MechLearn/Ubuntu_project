{
 "cells": [
  {
   "cell_type": "markdown",
   "metadata": {},
   "source": [
    "# Unit converter"
   ]
  },
  {
   "cell_type": "code",
   "execution_count": null,
   "metadata": {},
   "outputs": [],
   "source": [
    "print(\"Hello, welcome to the program to convert measure units \")\n",
    "print(\"1) Mass\")\n",
    "print(\"b) Lenght\")\n",
    "print(\"Time\")\n",
    "\n",
    "option = int(input(\"please choose a option\"))\n",
    "\n",
    "if option == 1:\n",
    "    print(\"1) Kg to g\")\n",
    "    print(\"2) g to Kg\")\n",
    "\n",
    "    mass_option = int(input(\"Choose a option\"))\n",
    "    if mass_option == 1:\n",
    "        mass_value = int(input(\"Type the mass value in kilograms\"))\n",
    "        mass_case1 = mass_value * 1000\n",
    "        print(f\"The mass value  is {mass_case1} g\")\n",
    "    elif mass_option == 2:\n",
    "        mass_value = int(input(\"Type the mass value in grams\"))\n",
    "        mass_case2 = mass_value / 1000\n",
    "        print(f\"The mass value is {mass_case2} kilograms\")\n",
    "    else:\n",
    "        print(\"Please choose a correct option\") \n",
    "elif option == 2:\n",
    "    print(\"1) m to km\")\n",
    "    print(\"2) km to m\")\n",
    "    lenght_option = int(input(\"Type the lenght value\"))\n",
    "    if lenght_option == 1:\n",
    "        lenght_value = int(input(\"Please type the lenght value in meters\"))\n",
    "        lenght_case1 = lenght_value / 1000\n",
    "        print(f\"The lenght value is {lenght_case1} Kilometers\")\n",
    "    elif lenght_option == 2:\n",
    "        lenght_value = int(input(\"Please type the lenght value in kilometers\"))\n",
    "        lenght_case2 = lenght_value * 1000\n",
    "    else:\n",
    "        print(\"Please choose a valid option\")\n",
    "\n",
    "elif option == 3:\n",
    "    print(\"1) s to m\")\n",
    "    print(\"2) m to s\")\n",
    "    time_option = int(input(\"Type the time value\"))\n",
    "    if time_option == 1:\n",
    "        time_value = int(input(\"Please type the time value in seconds\"))\n",
    "        time_case1 = time_value / 60\n",
    "        print(f\"The time value is {time_case1} minutes\")\n",
    "    elif time_option == 2:\n",
    "        time_value = int(input(\"Please type the time value in minutes\"))\n",
    "        time_case2 = time_value * 60\n",
    "        print(f\"The time value is {time_case2} seconds\")\n",
    "    else:\n",
    "        print(\"Please choose a valid option\")\n",
    "\n",
    "\n",
    "else:\n",
    "    print(\"Invalid Option\")"
   ]
  }
 ],
 "metadata": {
  "kernelspec": {
   "display_name": ".venv",
   "language": "python",
   "name": "python3"
  },
  "language_info": {
   "name": "python",
   "version": "3.12.3"
  }
 },
 "nbformat": 4,
 "nbformat_minor": 2
}
