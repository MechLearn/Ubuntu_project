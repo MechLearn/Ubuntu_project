{
 "cells": [
  {
   "cell_type": "markdown",
   "metadata": {},
   "source": [
    "# Calculator V1.0\n",
    "\n",
    "In this excercise we create a code that works like that calculator, this calculator  we able to do the following operations:\n",
    "\n",
    "a) sum\n",
    "b) substraction\n",
    "c) multiplication\n",
    "d) division\n",
    "e) exponentiation\n",
    "f) square root\n",
    "g) factorial\n",
    "h) logarithm\n",
    "\n",
    "\n"
   ]
  },
  {
   "cell_type": "markdown",
   "metadata": {},
   "source": [
    "En este primer paso realizamos una primera plantilla del menu de operaciones, mas adelante sera de interes integrar una interfaz grafica para que se a mas amigable con el usuario, en si un producto de software"
   ]
  },
  {
   "cell_type": "code",
   "metadata": {
    "ExecuteTime": {
     "end_time": "2025-02-19T00:34:08.063278Z",
     "start_time": "2025-02-19T00:34:08.059392Z"
    }
   },
   "source": [
    "import math\n",
    "import matplotlib\n",
    "\n",
    "print('Hello, welcome to the modern calculator')\n",
    "print('please choose the operation you want to perform')\n",
    "print('1. Addition \\n2. Subtraction \\n3. Multiplication \\n4. Division \\n5. Exponentiation \\n6. square root \\n7. factorial \\n8. Logarithm')"
   ],
   "outputs": [
    {
     "name": "stdout",
     "output_type": "stream",
     "text": [
      "Hello, welcome to the modern calculator\n",
      "please choose the operation you want to perform\n",
      "1. Addition \n",
      "2. Subtraction \n",
      "3. Multiplication \n",
      "4. Division \n",
      "5. Exponentiation \n",
      "6. square root \n",
      "7. factorial \n",
      "8. Logarithm\n"
     ]
    }
   ],
   "execution_count": 9
  },
  {
   "cell_type": "markdown",
   "metadata": {},
   "source": [
    "Luego, se definira una variable que almacene la opcion seleccionada por el usuario"
   ]
  },
  {
   "cell_type": "code",
   "metadata": {
    "ExecuteTime": {
     "end_time": "2025-02-19T00:34:16.368928Z",
     "start_time": "2025-02-19T00:34:09.725861Z"
    }
   },
   "source": [
    "opcion = int(input('Selecciona la opcion de la operacion que desees realizar: '))"
   ],
   "outputs": [],
   "execution_count": 10
  },
  {
   "cell_type": "markdown",
   "metadata": {},
   "source": [
    "Esta linea de codigo permitira almacenar una variable llamada 'opcion' con la seleccion del usuario para dar lugar a las operaciones elegidas por el usuario, en el siguiente ciclo del codigo que es la parte condicional"
   ]
  },
  {
   "cell_type": "code",
   "metadata": {
    "ExecuteTime": {
     "end_time": "2025-02-19T00:34:22.720678Z",
     "start_time": "2025-02-19T00:34:18.080661Z"
    }
   },
   "source": [
    "import math\n",
    "\n",
    "if opcion == 1:\n",
    "    print('Has seleccionado la opcion de suma')\n",
    "    num1 = float(input(\"Ingresa el primer numero que deseas sumar\"))\n",
    "    num2 = float(input(\"Ingresa el segundo numero que deseas sumar\"))\n",
    "    suma = num1 + num2\n",
    "    print(f'El resultado de las suma es {suma}')\n",
    "elif opcion == 2:\n",
    "    print('Has seleccionado la opcion de resta')\n",
    "    num1 = float(input(\"Ingresa el primer numero que deseas restar\"))\n",
    "    num2 = float(input(\"Ingresa el segundo numero que deseas restar\"))\n",
    "    resta = num1 - num2\n",
    "    print(f'El resultado de la resta es {resta}')\n",
    "elif opcion == 3:\n",
    "    print('Has seleccionado la opcion de multiplicacion')\n",
    "    num1 = float(input(\"Ingresa el primer numero a multiplicar\"))\n",
    "    num2 = float(input(\"Ingresa el segundo numero a multiplicar\"))\n",
    "    multiplicacion = num1 * num2\n",
    "    print(f'El resultado de la multiplicacion es {multiplicacion}')\n",
    "elif opcion == 4:\n",
    "    print(\"Has seleccionado la opcion de division\")\n",
    "    num1 = float(input(\"Ingresa el numero que vas a dividir\"))\n",
    "    num2 = float(input(\"Ingresa el numero con el que dividiras, es decir el divisor\"))\n",
    "    division = num1 / num2\n",
    "    print(f'El resultado de la division es {division}')\n",
    "elif opcion == 5:\n",
    "    print(\"Has seleccionado la opcion de potenciacion\")\n",
    "    num1 = float(input(\"Ingresa el numero que vas a potenciar\"))\n",
    "    num2 = float(input(\"Ingresa el exponente al cual quieres potenciar\"))\n",
    "    potentiation = math.pow(num1,num2)\n",
    "    print(f'El resultado de la potenciacion es {potentiation}')\n",
    "elif opcion == 6:\n",
    "    print('Has seleccionado la opcion de raiz cuadrada')\n",
    "    num1 = float(input(\"Ingresa el numero que va a cuadrada\"))\n",
    "    raiz = math.sqrt(num1)\n",
    "    print(f'El resultado de la raiz cuadrada es {raiz}')\n",
    "elif opcion == 7:\n",
    "    print('Has seleccionado la opcion de factorial')\n",
    "    num1 = float(input(\"Ingresa el numero factorial que deseas conocer\"))\n",
    "    factorial = math.factorial(num1)\n",
    "    print(f'El resultado de la factorial es {factorial}')\n",
    "elif opcion == 8:\n",
    "    print('Has seleccionado la opcion de logaritmo')\n",
    "    num1 = float(input(\"Ingresa el numero al cual le sacaras el logaritmo\"))\n",
    "    logaritmo = math.log(num1)\n",
    "    print(f\"El resultado de la logaritmo es {logaritmo}\")\n",
    "else:\n",
    "    print(\"Has seleccionado una opcion invalida, porfavor vuelve a intentarlo\")\n",
    "\n",
    "\n",
    "\n"
   ],
   "outputs": [
    {
     "name": "stdout",
     "output_type": "stream",
     "text": [
      "Has seleccionado la opcion de multiplicacion\n",
      "El resultado de la multiplicacion es 6.0\n"
     ]
    }
   ],
   "execution_count": 11
  },
  {
   "metadata": {},
   "cell_type": "markdown",
   "source": "Este es una opcion bastante poco practica, pues la lectura del codigo se hace una sola vez y en caso de que el usuario se equivoque al ingresar opciones deberia nuevamente reiniciar el programa, es como si el programa con una interfaz grafica al terminar una ejecucion se cerrara y tuvieramos que abrirlo de nuevo, a continuacion se mostrara una mejora para esto, enmarcado en el uso de las funciones, pues estas hacen mucho mas practico el proceso:"
  },
  {
   "metadata": {},
   "cell_type": "markdown",
   "source": "# Calculadora v 2.0\n"
  },
  {
   "metadata": {
    "ExecuteTime": {
     "end_time": "2025-02-20T00:54:57.843250Z",
     "start_time": "2025-02-20T00:54:38.888691Z"
    }
   },
   "cell_type": "code",
   "source": [
    "import math\n",
    "import cmath\n",
    "import matplotlib.pyplot as plt\n",
    "\n",
    "\n",
    "def suma(a,b):\n",
    "    return a+b\n",
    "def resta(a,b):\n",
    "    return a-b\n",
    "def multiplicacion(a,b):\n",
    "    return a*b\n",
    "def division(a,b):\n",
    "    if b != 0:\n",
    "        return a/b\n",
    "    else:\n",
    "        print(\"No se puedo dividir por zero\")\n",
    "def exponencial(a,b):\n",
    "    return math.pow(a,b)\n",
    "def raiz_cuadrada (a):\n",
    "    return math.sqrt(a)\n",
    "def factorial(a):\n",
    "    return math.factorial(a)\n",
    "def logaritmo(a):\n",
    "    return math.log(a)\n",
    "\n",
    "\n",
    "while True:\n",
    "    print(\"\\n--- Calculadora Mejorada ---\")\n",
    "    print(\"1. Suma\")\n",
    "    print(\"2. Resta\")\n",
    "    print(\"3. Multiplicacion\")\n",
    "    print(\"4. Division\")\n",
    "    print(\"5. Exponencial\")\n",
    "    print(\"6. Raiz Cuadrada\")\n",
    "    print(\"7. Factorial\")\n",
    "    print(\"8. Logaritmo\")\n",
    "    print(\"9. Salir\")\n",
    "    #En este punto se crea una variable que me permita almacenar la opcion ingresada por el usuario\n",
    "\n",
    "    try:\n",
    "        opcion = int(input(\"Ingresa una de las opciones\"))\n",
    "    except ValueError:\n",
    "        print(\"Por favor ingrese una opcion valida\")\n",
    "        continue\n",
    "\n",
    "\n",
    "    if opcion == 1:\n",
    "        print(\"Has seleccionado la suma\")\n",
    "        a = float(input(\"Ingresa el primer numero que deseas sumar\"))\n",
    "        b = float(input(\"Ingresa el segundo numero que deseas sumar\"))\n",
    "        print(\"El resultado de la suma es\", suma(a, b))\n",
    "    elif opcion == 2:\n",
    "        print(\"Has seleccionado la resta\")\n",
    "        a = float(input(\"Ingresa el primer numero que deseas restar\"))\n",
    "        b = float(input(\"Ingresa el segundo numero que deseas restar\"))\n",
    "        print(\"El resultado de la resta es\", resta(a, b))\n",
    "    elif opcion == 3:\n",
    "        print(\"Has seleccionado la multiplicacion\")\n",
    "        a = float(input(\"Ingresa el primer numero a multiplicar\"))\n",
    "        b = float(input(\"Ingresa el segundo numero a multiplicar\"))\n",
    "        print(\"El resultado de la multiplicacion es\", multiplicacion(a, b))\n",
    "    elif opcion == 4:\n",
    "        print(\"Has seleccionado la division\")\n",
    "        a = float(input(\"Ingresa el primer numero a division\"))\n",
    "        b = float(input(\"Ingresa el segundo numero a division\"))\n",
    "        print(\"El resultado de la division es\", division(a, b))\n",
    "    elif opcion == 5:\n",
    "        print(\"Has seleccionado la potenciacion\")\n",
    "        a = float(input(\"Ingresa el numero a potenciar\"))\n",
    "        b = float(input(\"Ingresa la potencia\"))\n",
    "        print(\"El resultado de la potenciacion es\", exponencial(a,b))\n",
    "    elif opcion == 6:\n",
    "        print(\"Has seleccionado la logaritmo\")\n",
    "        a = float(input(\"Ingrese el numero al cual desea sacarle el logaritmo\"))\n",
    "        print(f\"El logaritmo del numero {a} es\" , logaritmo(a))\n",
    "    elif opcion == 7:\n",
    "        print(\"Has seleccionado la raiz cuadrada\")\n",
    "        a = float(input(\"Ingresa el numero al cual desea sacar la raiz cuadrada\"))\n",
    "        print(f\"la raiz cuadrada del numero {a}\", raiz_cuadrada(a))\n",
    "    elif opcion == 8:\n",
    "        print(\"Has seleccionado la factorial\")\n",
    "        a = float(input(\"Ingresa el numero que desea sacarle el factorial\"))\n",
    "        print(f\"la factorial del numero {a}\", factorial(a))\n",
    "    elif opcion == 9:\n",
    "        print(\"Gracias por usar la calculadora mejorada\")\n",
    "    else:\n",
    "        print(\"Ha seleccionado una opcion invalida\")\n",
    "\n",
    "    continuar = input(\"Desea volver a usar la calculadora? S/N\")\n",
    "    if continuar.lower() != 's':\n",
    "        print(\"Gracias por usar la calculadora mejorada\")\n",
    "        break\n",
    "\n",
    "\n",
    "\n",
    "\n"
   ],
   "outputs": [
    {
     "name": "stdout",
     "output_type": "stream",
     "text": [
      "\n",
      "--- Calculadora Mejorada ---\n",
      "1. Suma\n",
      "2. Resta\n",
      "3. Multiplicacion\n",
      "4. Division\n",
      "5. Exponencial\n",
      "6. Raiz Cuadrada\n",
      "7. Factorial\n",
      "8. Logaritmo\n",
      "9. Salir\n",
      "Gracias por usar la calculadora mejorada\n",
      "Gracias por usar la calculadora mejorada\n"
     ]
    }
   ],
   "execution_count": 7
  },
  {
   "metadata": {},
   "cell_type": "code",
   "outputs": [],
   "execution_count": null,
   "source": ""
  }
 ],
 "metadata": {
  "kernelspec": {
   "display_name": ".venv",
   "language": "python",
   "name": "python3"
  },
  "language_info": {
   "codemirror_mode": {
    "name": "ipython",
    "version": 3
   },
   "file_extension": ".py",
   "mimetype": "text/x-python",
   "name": "python",
   "nbconvert_exporter": "python",
   "pygments_lexer": "ipython3",
   "version": "3.12.3"
  }
 },
 "nbformat": 4,
 "nbformat_minor": 2
}
