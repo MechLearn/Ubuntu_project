{
 "cells": [
  {
   "cell_type": "markdown",
   "metadata": {},
   "source": [
    "# Calculator\n",
    "\n",
    "In this excercise we create a code that works like that calculator, this calculator  we able to do the following operations:\n",
    "\n",
    "a) sum\n",
    "b) substraction\n",
    "c) multiplication\n",
    "d) division\n",
    "e) exponentiation\n",
    "f) square root\n",
    "g) factorial\n",
    "h) logarithm\n",
    "\n",
    "\n"
   ]
  },
  {
   "cell_type": "markdown",
   "metadata": {},
   "source": [
    "En este primer paso realizamos una primera plantilla del menu de operaciones, mas adelante sera de interes integrar una interfaz grafica para que se a mas amigable con el usuario, en si un producto de software"
   ]
  },
  {
   "cell_type": "code",
   "execution_count": null,
   "metadata": {},
   "outputs": [],
   "source": [
    "\n",
    "print('Hello, welcome to the modern calculator')\n",
    "print('please choose the operation you want to perform')\n",
    "print('1. Addition \\n2. Subtraction \\n3. Multiplication \\n4. Division \\n5. Exponentiation \\n6. square root \\n7. factorial \\n8. Logarithm')"
   ]
  },
  {
   "cell_type": "markdown",
   "metadata": {},
   "source": [
    "Luego, se definira una variable que almacene la opcion seleccionada por el usuario"
   ]
  },
  {
   "cell_type": "code",
   "execution_count": null,
   "metadata": {},
   "outputs": [],
   "source": [
    "opcion = int(input('Selecciona la opcion de la operacion que desees realizar: '))"
   ]
  },
  {
   "cell_type": "markdown",
   "metadata": {},
   "source": [
    "Esta linea de codigo permitira almacenar una variable llamada 'opcion' con la seleccion del usuario para dar lugar a las operaciones elegidas por el usuario, en el siguiente ciclo del codigo que es la parte condicional"
   ]
  },
  {
   "cell_type": "code",
   "execution_count": null,
   "metadata": {},
   "outputs": [],
   "source": [
    "if opcion == 1:\n",
    "    print('Has seleccionado la opcion de suma')\n",
    "    num1 = float(input(\"Ingresa el primer numero que deseas sumar\"))\n",
    "    num2 = float(input(\"Ingresa el segundo numero que deseas sumar\"))\n",
    "    suma = num1 + num2\n",
    "    print(f'El resultado de las suma es {suma}')\n",
    "elif opcion == 2:\n",
    "    print('Has seleccionado la opcion de resta')\n",
    "    num1 = float(input(\"Ingresa el primer numero que deseas restar\"))\n",
    "    num2 = float(input(\"Ingresa el segundo numero que deseas restar\"))\n",
    "    resta = num1 - num2\n",
    "    print(f'El resultado de la resta es {resta}')\n",
    "elif opcion == 3:\n",
    "    print('Has seleccionado la opcion de multiplicacion')\n",
    "    num1 = float(input(\"Ingresa el primer numero a multiplicar\"))\n",
    "    num2 = float(input(\"Ingresa el segundo numero a multiplicar\"))\n",
    "    multiplicacion = num1 * num2\n",
    "    print(f'El resultado de la multiplicacion es {multiplicacion}')"
   ]
  }
 ],
 "metadata": {
  "kernelspec": {
   "display_name": ".venv",
   "language": "python",
   "name": "python3"
  },
  "language_info": {
   "codemirror_mode": {
    "name": "ipython",
    "version": 3
   },
   "file_extension": ".py",
   "mimetype": "text/x-python",
   "name": "python",
   "nbconvert_exporter": "python",
   "pygments_lexer": "ipython3",
   "version": "3.12.3"
  }
 },
 "nbformat": 4,
 "nbformat_minor": 2
}
